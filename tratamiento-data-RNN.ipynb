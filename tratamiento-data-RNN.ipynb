{
 "cells": [
  {
   "cell_type": "markdown",
   "metadata": {},
   "source": [
    "<div style=\"text-align: center\">\n",
    "<h2><font color=\"#004D7F\" size=6>Tratamiento de datos</font></h2>\n",
    "<h1></h1>\n",
    "\n",
    "<div style=\"text-align: center\">\n",
    "<font color=\"#004D7F\" size=5>Curso: Inteligencia Artificial</font><br>\n",
    "<font color=\"#004D7F\" size=5>Docente: Juan Villegas Cubas</font><br>\n",
    "    <font color=\"#004D7F\" size=5>Alumno: Gonzalo López Guerrero</font><br>\n",
    "\n",
    "<br><br>\n",
    "<div style=\"text-align: right\">\n",
    "<font color=\"#004D7F\" size=3>Octubre 2020</font><br>"
   ]
  },
  {
   "cell_type": "code",
   "execution_count": null,
   "metadata": {},
   "outputs": [],
   "source": []
  },
  {
   "cell_type": "code",
   "execution_count": null,
   "metadata": {},
   "outputs": [],
   "source": []
  },
  {
   "cell_type": "code",
   "execution_count": 19,
   "metadata": {},
   "outputs": [
    {
     "name": "stdout",
     "output_type": "stream",
     "text": [
      "(14640, 15)\n"
     ]
    }
   ],
   "source": [
    "import pandas as pd\n",
    "import numpy as np\n",
    "%matplotlib inline\n",
    "import plotly \n",
    "from wordcloud import WordCloud,STOPWORDS\n",
    "import seaborn as sns\n",
    "import matplotlib.pyplot as plt\n",
    "import os\n",
    "from sklearn.model_selection import train_test_split\n",
    "from tensorflow.keras.utils import to_categorical\n",
    "import math\n",
    "\n",
    "#import twitter data\n",
    "filename = 'Data/Tweets.csv'\n",
    "dataset = pd.read_csv(filename)\n",
    "print(dataset.shape)#rows x columns"
   ]
  },
  {
   "cell_type": "code",
   "execution_count": 20,
   "metadata": {},
   "outputs": [
    {
     "data": {
      "text/html": [
       "<div>\n",
       "<style scoped>\n",
       "    .dataframe tbody tr th:only-of-type {\n",
       "        vertical-align: middle;\n",
       "    }\n",
       "\n",
       "    .dataframe tbody tr th {\n",
       "        vertical-align: top;\n",
       "    }\n",
       "\n",
       "    .dataframe thead th {\n",
       "        text-align: right;\n",
       "    }\n",
       "</style>\n",
       "<table border=\"1\" class=\"dataframe\">\n",
       "  <thead>\n",
       "    <tr style=\"text-align: right;\">\n",
       "      <th></th>\n",
       "      <th>airline_sentiment</th>\n",
       "      <th>airline_sentiment_confidence</th>\n",
       "      <th>negativereason</th>\n",
       "      <th>negativereason_confidence</th>\n",
       "      <th>text</th>\n",
       "    </tr>\n",
       "  </thead>\n",
       "  <tbody>\n",
       "    <tr>\n",
       "      <th>0</th>\n",
       "      <td>neutral</td>\n",
       "      <td>1.0000</td>\n",
       "      <td>NaN</td>\n",
       "      <td>NaN</td>\n",
       "      <td>@VirginAmerica What @dhepburn said.</td>\n",
       "    </tr>\n",
       "    <tr>\n",
       "      <th>1</th>\n",
       "      <td>positive</td>\n",
       "      <td>0.3486</td>\n",
       "      <td>NaN</td>\n",
       "      <td>0.0000</td>\n",
       "      <td>@VirginAmerica plus you've added commercials t...</td>\n",
       "    </tr>\n",
       "    <tr>\n",
       "      <th>2</th>\n",
       "      <td>neutral</td>\n",
       "      <td>0.6837</td>\n",
       "      <td>NaN</td>\n",
       "      <td>NaN</td>\n",
       "      <td>@VirginAmerica I didn't today... Must mean I n...</td>\n",
       "    </tr>\n",
       "    <tr>\n",
       "      <th>3</th>\n",
       "      <td>negative</td>\n",
       "      <td>1.0000</td>\n",
       "      <td>Bad Flight</td>\n",
       "      <td>0.7033</td>\n",
       "      <td>@VirginAmerica it's really aggressive to blast...</td>\n",
       "    </tr>\n",
       "    <tr>\n",
       "      <th>4</th>\n",
       "      <td>negative</td>\n",
       "      <td>1.0000</td>\n",
       "      <td>Can't Tell</td>\n",
       "      <td>1.0000</td>\n",
       "      <td>@VirginAmerica and it's a really big bad thing...</td>\n",
       "    </tr>\n",
       "    <tr>\n",
       "      <th>5</th>\n",
       "      <td>negative</td>\n",
       "      <td>1.0000</td>\n",
       "      <td>Can't Tell</td>\n",
       "      <td>0.6842</td>\n",
       "      <td>@VirginAmerica seriously would pay $30 a fligh...</td>\n",
       "    </tr>\n",
       "    <tr>\n",
       "      <th>6</th>\n",
       "      <td>positive</td>\n",
       "      <td>0.6745</td>\n",
       "      <td>NaN</td>\n",
       "      <td>0.0000</td>\n",
       "      <td>@VirginAmerica yes, nearly every time I fly VX...</td>\n",
       "    </tr>\n",
       "    <tr>\n",
       "      <th>7</th>\n",
       "      <td>neutral</td>\n",
       "      <td>0.6340</td>\n",
       "      <td>NaN</td>\n",
       "      <td>NaN</td>\n",
       "      <td>@VirginAmerica Really missed a prime opportuni...</td>\n",
       "    </tr>\n",
       "    <tr>\n",
       "      <th>8</th>\n",
       "      <td>positive</td>\n",
       "      <td>0.6559</td>\n",
       "      <td>NaN</td>\n",
       "      <td>NaN</td>\n",
       "      <td>@virginamerica Well, I didn't…but NOW I DO! :-D</td>\n",
       "    </tr>\n",
       "    <tr>\n",
       "      <th>9</th>\n",
       "      <td>positive</td>\n",
       "      <td>1.0000</td>\n",
       "      <td>NaN</td>\n",
       "      <td>NaN</td>\n",
       "      <td>@VirginAmerica it was amazing, and arrived an ...</td>\n",
       "    </tr>\n",
       "    <tr>\n",
       "      <th>10</th>\n",
       "      <td>neutral</td>\n",
       "      <td>0.6769</td>\n",
       "      <td>NaN</td>\n",
       "      <td>0.0000</td>\n",
       "      <td>@VirginAmerica did you know that suicide is th...</td>\n",
       "    </tr>\n",
       "    <tr>\n",
       "      <th>11</th>\n",
       "      <td>positive</td>\n",
       "      <td>1.0000</td>\n",
       "      <td>NaN</td>\n",
       "      <td>NaN</td>\n",
       "      <td>@VirginAmerica I &amp;lt;3 pretty graphics. so muc...</td>\n",
       "    </tr>\n",
       "    <tr>\n",
       "      <th>12</th>\n",
       "      <td>positive</td>\n",
       "      <td>1.0000</td>\n",
       "      <td>NaN</td>\n",
       "      <td>NaN</td>\n",
       "      <td>@VirginAmerica This is such a great deal! Alre...</td>\n",
       "    </tr>\n",
       "    <tr>\n",
       "      <th>13</th>\n",
       "      <td>positive</td>\n",
       "      <td>0.6451</td>\n",
       "      <td>NaN</td>\n",
       "      <td>NaN</td>\n",
       "      <td>@VirginAmerica @virginmedia I'm flying your #f...</td>\n",
       "    </tr>\n",
       "    <tr>\n",
       "      <th>14</th>\n",
       "      <td>positive</td>\n",
       "      <td>1.0000</td>\n",
       "      <td>NaN</td>\n",
       "      <td>NaN</td>\n",
       "      <td>@VirginAmerica Thanks!</td>\n",
       "    </tr>\n",
       "    <tr>\n",
       "      <th>15</th>\n",
       "      <td>negative</td>\n",
       "      <td>0.6842</td>\n",
       "      <td>Late Flight</td>\n",
       "      <td>0.3684</td>\n",
       "      <td>@VirginAmerica SFO-PDX schedule is still MIA.</td>\n",
       "    </tr>\n",
       "    <tr>\n",
       "      <th>16</th>\n",
       "      <td>positive</td>\n",
       "      <td>1.0000</td>\n",
       "      <td>NaN</td>\n",
       "      <td>NaN</td>\n",
       "      <td>@VirginAmerica So excited for my first cross c...</td>\n",
       "    </tr>\n",
       "    <tr>\n",
       "      <th>17</th>\n",
       "      <td>negative</td>\n",
       "      <td>1.0000</td>\n",
       "      <td>Bad Flight</td>\n",
       "      <td>1.0000</td>\n",
       "      <td>@VirginAmerica  I flew from NYC to SFO last we...</td>\n",
       "    </tr>\n",
       "    <tr>\n",
       "      <th>18</th>\n",
       "      <td>positive</td>\n",
       "      <td>1.0000</td>\n",
       "      <td>NaN</td>\n",
       "      <td>NaN</td>\n",
       "      <td>I ❤️ flying @VirginAmerica. ☺️👍</td>\n",
       "    </tr>\n",
       "    <tr>\n",
       "      <th>19</th>\n",
       "      <td>positive</td>\n",
       "      <td>1.0000</td>\n",
       "      <td>NaN</td>\n",
       "      <td>NaN</td>\n",
       "      <td>@VirginAmerica you know what would be amazingl...</td>\n",
       "    </tr>\n",
       "  </tbody>\n",
       "</table>\n",
       "</div>"
      ],
      "text/plain": [
       "   airline_sentiment  airline_sentiment_confidence negativereason  \\\n",
       "0            neutral                        1.0000            NaN   \n",
       "1           positive                        0.3486            NaN   \n",
       "2            neutral                        0.6837            NaN   \n",
       "3           negative                        1.0000     Bad Flight   \n",
       "4           negative                        1.0000     Can't Tell   \n",
       "5           negative                        1.0000     Can't Tell   \n",
       "6           positive                        0.6745            NaN   \n",
       "7            neutral                        0.6340            NaN   \n",
       "8           positive                        0.6559            NaN   \n",
       "9           positive                        1.0000            NaN   \n",
       "10           neutral                        0.6769            NaN   \n",
       "11          positive                        1.0000            NaN   \n",
       "12          positive                        1.0000            NaN   \n",
       "13          positive                        0.6451            NaN   \n",
       "14          positive                        1.0000            NaN   \n",
       "15          negative                        0.6842    Late Flight   \n",
       "16          positive                        1.0000            NaN   \n",
       "17          negative                        1.0000     Bad Flight   \n",
       "18          positive                        1.0000            NaN   \n",
       "19          positive                        1.0000            NaN   \n",
       "\n",
       "    negativereason_confidence  \\\n",
       "0                         NaN   \n",
       "1                      0.0000   \n",
       "2                         NaN   \n",
       "3                      0.7033   \n",
       "4                      1.0000   \n",
       "5                      0.6842   \n",
       "6                      0.0000   \n",
       "7                         NaN   \n",
       "8                         NaN   \n",
       "9                         NaN   \n",
       "10                     0.0000   \n",
       "11                        NaN   \n",
       "12                        NaN   \n",
       "13                        NaN   \n",
       "14                        NaN   \n",
       "15                     0.3684   \n",
       "16                        NaN   \n",
       "17                     1.0000   \n",
       "18                        NaN   \n",
       "19                        NaN   \n",
       "\n",
       "                                                 text  \n",
       "0                 @VirginAmerica What @dhepburn said.  \n",
       "1   @VirginAmerica plus you've added commercials t...  \n",
       "2   @VirginAmerica I didn't today... Must mean I n...  \n",
       "3   @VirginAmerica it's really aggressive to blast...  \n",
       "4   @VirginAmerica and it's a really big bad thing...  \n",
       "5   @VirginAmerica seriously would pay $30 a fligh...  \n",
       "6   @VirginAmerica yes, nearly every time I fly VX...  \n",
       "7   @VirginAmerica Really missed a prime opportuni...  \n",
       "8     @virginamerica Well, I didn't…but NOW I DO! :-D  \n",
       "9   @VirginAmerica it was amazing, and arrived an ...  \n",
       "10  @VirginAmerica did you know that suicide is th...  \n",
       "11  @VirginAmerica I &lt;3 pretty graphics. so muc...  \n",
       "12  @VirginAmerica This is such a great deal! Alre...  \n",
       "13  @VirginAmerica @virginmedia I'm flying your #f...  \n",
       "14                             @VirginAmerica Thanks!  \n",
       "15      @VirginAmerica SFO-PDX schedule is still MIA.  \n",
       "16  @VirginAmerica So excited for my first cross c...  \n",
       "17  @VirginAmerica  I flew from NYC to SFO last we...  \n",
       "18                    I ❤️ flying @VirginAmerica. ☺️👍  \n",
       "19  @VirginAmerica you know what would be amazingl...  "
      ]
     },
     "execution_count": 20,
     "metadata": {},
     "output_type": "execute_result"
    }
   ],
   "source": [
    "dataset[\n",
    "    ['airline_sentiment','airline_sentiment_confidence','negativereason','negativereason_confidence','text']\n",
    "].head(20)"
   ]
  },
  {
   "cell_type": "code",
   "execution_count": 21,
   "metadata": {},
   "outputs": [
    {
     "data": {
      "text/plain": [
       "(14640, 15)"
      ]
     },
     "execution_count": 21,
     "metadata": {},
     "output_type": "execute_result"
    }
   ],
   "source": [
    "dataset.shape"
   ]
  },
  {
   "cell_type": "code",
   "execution_count": 22,
   "metadata": {},
   "outputs": [
    {
     "data": {
      "text/plain": [
       "negative    9178\n",
       "neutral     3099\n",
       "positive    2363\n",
       "Name: airline_sentiment, dtype: int64"
      ]
     },
     "execution_count": 22,
     "metadata": {},
     "output_type": "execute_result"
    }
   ],
   "source": [
    "# cantidad de tweet por clase\n",
    "dataset['airline_sentiment'].value_counts()"
   ]
  },
  {
   "cell_type": "code",
   "execution_count": 23,
   "metadata": {},
   "outputs": [],
   "source": [
    "# convertir a entero los valores de las clases\n",
    "dataset['airline_sentiment'] = dataset['airline_sentiment'].replace('neutral', 1)\n",
    "dataset['airline_sentiment'] = dataset['airline_sentiment'].replace('negative', 0)\n",
    "dataset['airline_sentiment'] = dataset['airline_sentiment'].replace('positive', 2)"
   ]
  },
  {
   "cell_type": "code",
   "execution_count": 24,
   "metadata": {},
   "outputs": [],
   "source": [
    "# Dividar los datos entre text y clase\n",
    "X = dataset['text'] # data\n",
    "y = dataset['airline_sentiment'] # labels"
   ]
  },
  {
   "cell_type": "markdown",
   "metadata": {},
   "source": [
    "<h3>Procesando Datos<7h3>"
   ]
  },
  {
   "cell_type": "code",
   "execution_count": 25,
   "metadata": {},
   "outputs": [],
   "source": [
    "from tensorflow.keras.preprocessing.text import Tokenizer  #reemplazar los caracteres especiales\n",
    "from tensorflow.keras.preprocessing.text import text_to_word_sequence #analiza la secuencia de los caracteres"
   ]
  },
  {
   "cell_type": "code",
   "execution_count": 26,
   "metadata": {},
   "outputs": [],
   "source": [
    "# Convertisa los datos en token\n",
    "# create tokenizer\n",
    "t = Tokenizer()\n",
    "t.fit_on_texts(X)"
   ]
  },
  {
   "cell_type": "code",
   "execution_count": 27,
   "metadata": {},
   "outputs": [],
   "source": [
    "# Encuentra la cantidad de palabras únicas en los tweets\n",
    "vocab_size = len(t.word_index) + 1"
   ]
  },
  {
   "cell_type": "code",
   "execution_count": 28,
   "metadata": {},
   "outputs": [],
   "source": [
    "# indexar las palabras (relacionar con su par entero)\n",
    "sequences = t.texts_to_sequences(X)"
   ]
  },
  {
   "cell_type": "code",
   "execution_count": 29,
   "metadata": {},
   "outputs": [],
   "source": [
    "# Encuentra el tweet con mayor numero de caracteres para ser tomado como referencias \n",
    "#al momento de vectorizar a las palabras\n",
    "def max_tweet():\n",
    "    for i in range(1, len(sequences)):\n",
    "        max_length = len(sequences[0])\n",
    "        if len(sequences[i]) > max_length:\n",
    "            max_length = len(sequences[i])\n",
    "    return max_length"
   ]
  },
  {
   "cell_type": "code",
   "execution_count": 30,
   "metadata": {},
   "outputs": [
    {
     "name": "stdout",
     "output_type": "stream",
     "text": [
      "Mayor numero de caracteres en un tweet  30\n"
     ]
    }
   ],
   "source": [
    "tweet_num = max_tweet()\n",
    "print(\"Mayor numero de caracteres en un tweet \" , tweet_num)"
   ]
  },
  {
   "cell_type": "code",
   "execution_count": 31,
   "metadata": {},
   "outputs": [
    {
     "data": {
      "text/plain": [
       "array([[  81,   62, 6686, ...,    0,    0,    0],\n",
       "       [  81,  558,  590, ...,    0,    0,    0],\n",
       "       [  81,    3,  207, ...,    0,    0,    0],\n",
       "       ...,\n",
       "       [  13,   75,  661, ...,    0,    0,    0],\n",
       "       [  13,    6,   22, ...,    0,    0,    0],\n",
       "       [  13,   41,   22, ...,    2,  179,    8]])"
      ]
     },
     "execution_count": 31,
     "metadata": {},
     "output_type": "execute_result"
    }
   ],
   "source": [
    "# las palabras no encontradas en el tweet se llenan con ceros en el array\n",
    "# https://realpython.com/python-keras-text-classification/\n",
    "from tensorflow.keras.preprocessing.sequence import pad_sequences\n",
    "maxlen = tweet_num\n",
    "padded_X = pad_sequences(sequences, padding='post', maxlen=maxlen)\n",
    "valor_maximo =np.amax(padded_X) \n",
    "padded_X"
   ]
  },
  {
   "cell_type": "code",
   "execution_count": 32,
   "metadata": {},
   "outputs": [
    {
     "data": {
      "text/plain": [
       "array([[0., 1., 0.],\n",
       "       [0., 0., 1.],\n",
       "       [0., 1., 0.],\n",
       "       ...,\n",
       "       [0., 1., 0.],\n",
       "       [1., 0., 0.],\n",
       "       [0., 1., 0.]], dtype=float32)"
      ]
     },
     "execution_count": 32,
     "metadata": {},
     "output_type": "execute_result"
    }
   ],
   "source": [
    "# Convert labels\n",
    "labels = to_categorical(np.asarray(y))\n",
    "labels\n",
    "# 1 => representa la clase que representa negativo / neutral / positivo"
   ]
  },
  {
   "cell_type": "code",
   "execution_count": 33,
   "metadata": {},
   "outputs": [],
   "source": [
    "array = dataset.values\n",
    "padded_Y = array[:,1] #array de clases\n",
    "padded_Y_test=padded_Y.astype('int')\n",
    "#padded_Y\n",
    "padded_X_test = (padded_X /valor_maximo) -1\n"
   ]
  },
  {
   "cell_type": "markdown",
   "metadata": {},
   "source": [
    "<a id=\"section31\"></a>\n",
    "## <font color=\"#004D7F\"> 3.1. Validación Cruzada de k-fold</font>"
   ]
  },
  {
   "cell_type": "code",
   "execution_count": 34,
   "metadata": {},
   "outputs": [
    {
     "name": "stdout",
     "output_type": "stream",
     "text": [
      "Accuray: 62.42% (11.60%)\n"
     ]
    }
   ],
   "source": [
    "#Validacion cruzada kfold\n",
    "from sklearn.model_selection import KFold\n",
    "from sklearn.model_selection import cross_val_score\n",
    "from sklearn.linear_model import LogisticRegression\n",
    "\n",
    "kfold = KFold(n_splits=10)\n",
    "model = LogisticRegression(solver='lbfgs', max_iter=1000)\n",
    "scoring = 'accuracy'\n",
    "results = cross_val_score(model, padded_X_test, padded_Y_test, cv=kfold, scoring=scoring)\n",
    "#results\n",
    "print(f\"Accuray: {results.mean()*100.0:,.2f}% ({results.std()*100.0:,.2f}%)\") \n",
    "#accuracy y desviasion estandar rango\n",
    "#78% y 94.12% la desviacion estandar da mucho rango"
   ]
  },
  {
   "cell_type": "markdown",
   "metadata": {},
   "source": [
    "<a id=\"section32\"></a>\n",
    "## <font color=\"#004D7F\"> 3.2. Validación cruzada repetida</font>"
   ]
  },
  {
   "cell_type": "code",
   "execution_count": 36,
   "metadata": {},
   "outputs": [
    {
     "name": "stdout",
     "output_type": "stream",
     "text": [
      "Accuray: 62.67% (1.26%)\n"
     ]
    }
   ],
   "source": [
    "#Validacion cruzada con repeticiones\n",
    "from sklearn.model_selection import RepeatedKFold\n",
    "from sklearn.model_selection import cross_val_score\n",
    "from sklearn.linear_model import LogisticRegression\n",
    "\n",
    "repeatedcv = RepeatedKFold(n_splits=10, n_repeats=5, random_state=7)\n",
    "model = LogisticRegression(solver='lbfgs', max_iter=1000)\n",
    "results = cross_val_score(model,padded_X_test, padded_Y_test, cv=repeatedcv)\n",
    "print(f\"Accuray: {results.mean()*100.0:,.2f}% ({results.std()*100.0:,.2f}%)\")"
   ]
  },
  {
   "cell_type": "markdown",
   "metadata": {},
   "source": [
    "<a id=\"section33\"></a>\n",
    "## <font color=\"#004D7F\"> 3.3. Validación cruzada dejando uno fuera</font>"
   ]
  },
  {
   "cell_type": "code",
   "execution_count": 35,
   "metadata": {},
   "outputs": [
    {
     "name": "stdout",
     "output_type": "stream",
     "text": [
      "Accuray: 62.67% (1.26%)\n"
     ]
    }
   ],
   "source": [
    "#Validacion cruzada dejando uno fuera\n",
    "from sklearn.model_selection import LeaveOneOut\n",
    "from sklearn.model_selection import cross_val_score\n",
    "from sklearn.linear_model import LogisticRegression\n",
    "\n",
    "loocv = LeaveOneOut()\n",
    "model = LogisticRegression(solver='lbfgs', max_iter=1000)\n",
    "results = cross_val_score(model, padded_X_test, padded_Y_test, cv=repeatedcv)\n",
    "print(f\"Accuray: {results.mean()*100.0:,.2f}% ({results.std()*100.0:,.2f}%)\")"
   ]
  },
  {
   "cell_type": "code",
   "execution_count": null,
   "metadata": {},
   "outputs": [],
   "source": []
  },
  {
   "cell_type": "markdown",
   "metadata": {},
   "source": [
    "## Entrenamiento de datos"
   ]
  },
  {
   "cell_type": "code",
   "execution_count": 57,
   "metadata": {},
   "outputs": [],
   "source": [
    "# Train test split\n",
    "from sklearn.model_selection import train_test_split\n",
    "\n",
    "X_train, X_test, y_train, y_test = train_test_split(padded_X, labels, test_size = 0.2, random_state = 0)"
   ]
  },
  {
   "cell_type": "code",
   "execution_count": 39,
   "metadata": {},
   "outputs": [
    {
     "name": "stdout",
     "output_type": "stream",
     "text": [
      "X_train size: (11712, 30)\n",
      "y_train size: (11712, 3)\n",
      "X_test size: (2928, 30)\n",
      "y_test size: (2928, 3)\n"
     ]
    }
   ],
   "source": [
    "# Size of train and test datasets\n",
    "print('X_train size:', X_train.shape)\n",
    "print('y_train size:', y_train.shape)\n",
    "print('X_test size:', X_test.shape)\n",
    "print('y_test size:', y_test.shape)"
   ]
  },
  {
   "cell_type": "markdown",
   "metadata": {},
   "source": [
    "## Pre-trained word embedding"
   ]
  },
  {
   "cell_type": "code",
   "execution_count": 58,
   "metadata": {},
   "outputs": [
    {
     "name": "stdout",
     "output_type": "stream",
     "text": [
      "Vectores de palabras cargados: 400000\n"
     ]
    }
   ],
   "source": [
    "# GloVe se define como un “algoritmo de aprendizaje no supervisado \n",
    "#para obtener representaciones vectoriales de palabras”. \n",
    "#Descargamos datos del sitio web vinculado y usamos específicamente las incrustaciones\n",
    "#100-dimensionales de 400k palabras de Wikipedia en inglés en 2014. \n",
    "#Esto se representa en un archivo txt que debemos analizar para crear un\n",
    "#índice que mapee las palabras a su representación vectorial.\n",
    "\n",
    "# 100 dimensional version (embedding dimension)\n",
    "\n",
    "#ayuda a en la decodificacion\n",
    "#https://stackoverflow.com/questions/9233027/unicodedecodeerror-charmap-codec-cant-decode-byte-x-in-position-y-character\n",
    "embeddings_index = dict()\n",
    "f = open('Data/glove/glove.6B.100d.txt', encoding=\"utf8\")\n",
    "for line in f:\n",
    "    values = line.split()\n",
    "    word = values[0]\n",
    "    coefs = np.asarray(values[1:], dtype='float32')\n",
    "    embeddings_index[word] = coefs\n",
    "f.close()\n",
    "print('Vectores de palabras cargados: %s' % len(embeddings_index))"
   ]
  },
  {
   "cell_type": "code",
   "execution_count": 63,
   "metadata": {},
   "outputs": [
    {
     "name": "stdout",
     "output_type": "stream",
     "text": [
      "[[ 0.    0.    0.   ...  0.    0.    0.  ]\n",
      " [-0.19  0.05  0.19 ... -0.4   0.48 -0.16]\n",
      " [-0.04 -0.24  0.73 ... -0.15  0.83  0.27]\n",
      " ...\n",
      " [ 0.    0.    0.   ...  0.    0.    0.  ]\n",
      " [ 0.    0.    0.   ...  0.    0.    0.  ]\n",
      " [ 0.    0.    0.   ...  0.    0.    0.  ]]\n"
     ]
    }
   ],
   "source": [
    "# Se Obtiene todas las palabras únicas en nuestro conjunto de entrenamiento: índice de tokenizadores\n",
    "# Se encuentra el vector de peso correspondiente en la incrustación de GloVe\n",
    "\n",
    "# Se define el tamaño de la matriz de incrustación: número de palabras únicas x incrustación dim (100)\n",
    "embedding_matrix = np.zeros((vocab_size, 100))\n",
    "\n",
    "# llenado de la matrix\n",
    "for word, i in t.word_index.items():  # dictionary\n",
    "    embedding_vector = embeddings_index.get(word) # obtiene un vector incrustado de palabra de GloVe\n",
    "    if embedding_vector is not None:\n",
    "        # se agrega a la matrix\n",
    "        embedding_matrix[i] = embedding_vector # cada fila de la matrix\n",
    "\n",
    "print(embedding_matrix)"
   ]
  },
  {
   "cell_type": "code",
   "execution_count": 64,
   "metadata": {},
   "outputs": [],
   "source": [
    "# Crea una capa de incrustación usando una matriz de incrustación\n",
    "from tensorflow.keras.layers import Embedding\n",
    "\n",
    "# la entrada es vocab_size, la salida es 100\n",
    "# pesos de la matriz de incrustación, establezca entrenable = Falso || para q no se modifiquen los valores de Glove\n",
    "embedding_layer = Embedding(input_dim=vocab_size, output_dim=100, weights=[embedding_matrix],\n",
    "                           input_length = tweet_num, trainable=False)"
   ]
  },
  {
   "cell_type": "code",
   "execution_count": null,
   "metadata": {},
   "outputs": [],
   "source": []
  },
  {
   "cell_type": "code",
   "execution_count": 65,
   "metadata": {},
   "outputs": [],
   "source": [
    "from tensorflow.keras.models import Sequential\n",
    "from tensorflow.keras.layers import Dense\n",
    "from tensorflow.keras.layers import Flatten\n",
    "from tensorflow.keras.layers import LSTM\n",
    "from tensorflow.keras.layers import GRU\n",
    "from tensorflow.keras.layers import BatchNormalization"
   ]
  },
  {
   "cell_type": "code",
   "execution_count": 66,
   "metadata": {},
   "outputs": [],
   "source": [
    "#First Model: Simple LSTM with Dropout and High Dimensionality"
   ]
  },
  {
   "cell_type": "code",
   "execution_count": 47,
   "metadata": {},
   "outputs": [
    {
     "name": "stdout",
     "output_type": "stream",
     "text": [
      "Model: \"sequential\"\n",
      "_________________________________________________________________\n",
      "Layer (type)                 Output Shape              Param #   \n",
      "=================================================================\n",
      "embedding_1 (Embedding)      (None, 30, 100)           1576900   \n",
      "_________________________________________________________________\n",
      "lstm (LSTM)                  (None, 256)               365568    \n",
      "_________________________________________________________________\n",
      "dense (Dense)                (None, 3)                 771       \n",
      "=================================================================\n",
      "Total params: 1,943,239\n",
      "Trainable params: 366,339\n",
      "Non-trainable params: 1,576,900\n",
      "_________________________________________________________________\n"
     ]
    }
   ],
   "source": [
    "lstm_mod1 = Sequential()\n",
    "lstm_mod1.add(embedding_layer)\n",
    "lstm_mod1.add(LSTM(256, \n",
    "               dropout = 0.2, \n",
    "               recurrent_dropout = 0.5))\n",
    "lstm_mod1.add(Dense(3, activation='softmax'))\n",
    "lstm_mod1.compile(optimizer='adam', loss='categorical_crossentropy', metrics=['acc'])\n",
    "lstm_mod1.summary()"
   ]
  },
  {
   "cell_type": "code",
   "execution_count": 48,
   "metadata": {},
   "outputs": [
    {
     "name": "stdout",
     "output_type": "stream",
     "text": [
      "Epoch 1/100\n",
      "37/37 [==============================] - 36s 984ms/step - loss: 0.8426 - acc: 0.6305 - val_loss: 0.7511 - val_acc: 0.6876\n",
      "Epoch 2/100\n",
      "37/37 [==============================] - 33s 882ms/step - loss: 0.7057 - acc: 0.7130 - val_loss: 0.6573 - val_acc: 0.7422\n",
      "Epoch 3/100\n",
      "37/37 [==============================] - 33s 905ms/step - loss: 0.6302 - acc: 0.7415 - val_loss: 0.5945 - val_acc: 0.7589\n",
      "Epoch 4/100\n",
      "37/37 [==============================] - 33s 899ms/step - loss: 0.6112 - acc: 0.7489 - val_loss: 0.6344 - val_acc: 0.7452\n",
      "Epoch 5/100\n",
      "37/37 [==============================] - 33s 901ms/step - loss: 0.5917 - acc: 0.7573 - val_loss: 0.5766 - val_acc: 0.7670\n",
      "Epoch 6/100\n",
      "37/37 [==============================] - 35s 953ms/step - loss: 0.5717 - acc: 0.7682 - val_loss: 0.5703 - val_acc: 0.7764\n",
      "Epoch 7/100\n",
      "37/37 [==============================] - 21s 555ms/step - loss: 0.5672 - acc: 0.7721 - val_loss: 0.5475 - val_acc: 0.7819\n",
      "Epoch 8/100\n",
      "37/37 [==============================] - 21s 577ms/step - loss: 0.5523 - acc: 0.7745 - val_loss: 0.5557 - val_acc: 0.7789\n",
      "Epoch 9/100\n",
      "37/37 [==============================] - 22s 583ms/step - loss: 0.5371 - acc: 0.7822 - val_loss: 0.5468 - val_acc: 0.7870\n",
      "Epoch 10/100\n",
      "37/37 [==============================] - 22s 598ms/step - loss: 0.5212 - acc: 0.7906 - val_loss: 0.5418 - val_acc: 0.7909\n",
      "Epoch 11/100\n",
      "37/37 [==============================] - 22s 583ms/step - loss: 0.5262 - acc: 0.7894 - val_loss: 0.5437 - val_acc: 0.7832\n",
      "Epoch 12/100\n",
      "37/37 [==============================] - 22s 584ms/step - loss: 0.5135 - acc: 0.7939 - val_loss: 0.5173 - val_acc: 0.7985\n",
      "Epoch 13/100\n",
      "37/37 [==============================] - 21s 568ms/step - loss: 0.4958 - acc: 0.8017 - val_loss: 0.5267 - val_acc: 0.7943\n",
      "Epoch 14/100\n",
      "37/37 [==============================] - 24s 652ms/step - loss: 0.4867 - acc: 0.8069 - val_loss: 0.5309 - val_acc: 0.7862\n",
      "Epoch 15/100\n",
      "37/37 [==============================] - 24s 654ms/step - loss: 0.4853 - acc: 0.8029 - val_loss: 0.5698 - val_acc: 0.7930\n",
      "Epoch 16/100\n",
      "37/37 [==============================] - 23s 617ms/step - loss: 0.4698 - acc: 0.8158 - val_loss: 0.5239 - val_acc: 0.8007\n",
      "Epoch 17/100\n",
      "37/37 [==============================] - 22s 592ms/step - loss: 0.4635 - acc: 0.8173 - val_loss: 0.5264 - val_acc: 0.7926\n",
      "Epoch 18/100\n",
      "37/37 [==============================] - 19s 501ms/step - loss: 0.4566 - acc: 0.8169 - val_loss: 0.5233 - val_acc: 0.7994\n",
      "Epoch 19/100\n",
      "37/37 [==============================] - 19s 521ms/step - loss: 0.4422 - acc: 0.8261 - val_loss: 0.5198 - val_acc: 0.8024\n",
      "Epoch 20/100\n",
      "37/37 [==============================] - 18s 479ms/step - loss: 0.4410 - acc: 0.8241 - val_loss: 0.5071 - val_acc: 0.8105\n",
      "Epoch 21/100\n",
      "37/37 [==============================] - 18s 496ms/step - loss: 0.4231 - acc: 0.8341 - val_loss: 0.5352 - val_acc: 0.8058\n",
      "Epoch 22/100\n",
      "37/37 [==============================] - 17s 469ms/step - loss: 0.4123 - acc: 0.8349 - val_loss: 0.5646 - val_acc: 0.7700\n",
      "Epoch 23/100\n",
      "37/37 [==============================] - 17s 471ms/step - loss: 0.4073 - acc: 0.8394 - val_loss: 0.5150 - val_acc: 0.8045\n",
      "Epoch 24/100\n",
      "37/37 [==============================] - 17s 454ms/step - loss: 0.3911 - acc: 0.8410 - val_loss: 0.5288 - val_acc: 0.8054\n",
      "Epoch 25/100\n",
      "37/37 [==============================] - 16s 441ms/step - loss: 0.3863 - acc: 0.8520 - val_loss: 0.5198 - val_acc: 0.8024\n",
      "Epoch 26/100\n",
      "37/37 [==============================] - 16s 441ms/step - loss: 0.3760 - acc: 0.8538 - val_loss: 0.5274 - val_acc: 0.8096\n",
      "Epoch 27/100\n",
      "37/37 [==============================] - 17s 451ms/step - loss: 0.3741 - acc: 0.8510 - val_loss: 0.5536 - val_acc: 0.7998\n",
      "Epoch 28/100\n",
      "37/37 [==============================] - 20s 548ms/step - loss: 0.3797 - acc: 0.8539 - val_loss: 0.5268 - val_acc: 0.7994\n",
      "Epoch 29/100\n",
      "37/37 [==============================] - 24s 641ms/step - loss: 0.3520 - acc: 0.8595 - val_loss: 0.5358 - val_acc: 0.7981\n",
      "Epoch 30/100\n",
      "37/37 [==============================] - 23s 620ms/step - loss: 0.3480 - acc: 0.8650 - val_loss: 0.5548 - val_acc: 0.8032\n",
      "Epoch 31/100\n",
      "37/37 [==============================] - 25s 668ms/step - loss: 0.3388 - acc: 0.8697 - val_loss: 0.5531 - val_acc: 0.8037\n",
      "Epoch 32/100\n",
      "37/37 [==============================] - 22s 606ms/step - loss: 0.3284 - acc: 0.8718 - val_loss: 0.5703 - val_acc: 0.8020\n",
      "Epoch 33/100\n",
      "37/37 [==============================] - 23s 617ms/step - loss: 0.3208 - acc: 0.8766 - val_loss: 0.6529 - val_acc: 0.7751\n",
      "Epoch 34/100\n",
      "37/37 [==============================] - 22s 602ms/step - loss: 0.3194 - acc: 0.8753 - val_loss: 0.6209 - val_acc: 0.7998\n",
      "Epoch 35/100\n",
      "37/37 [==============================] - 23s 632ms/step - loss: 0.3117 - acc: 0.8802 - val_loss: 0.5658 - val_acc: 0.8084\n",
      "Epoch 36/100\n",
      "37/37 [==============================] - 22s 608ms/step - loss: 0.2924 - acc: 0.8849 - val_loss: 0.6033 - val_acc: 0.8011\n",
      "Epoch 37/100\n",
      "37/37 [==============================] - 22s 601ms/step - loss: 0.2945 - acc: 0.8864 - val_loss: 0.6187 - val_acc: 0.7973\n",
      "Epoch 38/100\n",
      "37/37 [==============================] - 22s 597ms/step - loss: 0.2835 - acc: 0.8886 - val_loss: 0.6170 - val_acc: 0.8054\n",
      "Epoch 39/100\n",
      "37/37 [==============================] - 22s 589ms/step - loss: 0.2564 - acc: 0.9032 - val_loss: 0.6454 - val_acc: 0.7879\n",
      "Epoch 40/100\n",
      "37/37 [==============================] - 22s 594ms/step - loss: 0.2659 - acc: 0.8991 - val_loss: 0.6614 - val_acc: 0.7998\n",
      "Epoch 41/100\n",
      "37/37 [==============================] - 23s 610ms/step - loss: 0.2610 - acc: 0.8988 - val_loss: 0.6107 - val_acc: 0.7939\n",
      "Epoch 42/100\n",
      "37/37 [==============================] - 22s 606ms/step - loss: 0.2460 - acc: 0.9058 - val_loss: 0.6461 - val_acc: 0.7981\n",
      "Epoch 43/100\n",
      "37/37 [==============================] - 22s 587ms/step - loss: 0.2381 - acc: 0.9068 - val_loss: 0.6629 - val_acc: 0.7883\n",
      "Epoch 44/100\n",
      "37/37 [==============================] - 22s 597ms/step - loss: 0.2442 - acc: 0.9054 - val_loss: 0.6351 - val_acc: 0.7960\n",
      "Epoch 45/100\n",
      "37/37 [==============================] - 22s 607ms/step - loss: 0.2357 - acc: 0.9099 - val_loss: 0.7312 - val_acc: 0.8050\n",
      "Epoch 46/100\n",
      "37/37 [==============================] - 22s 607ms/step - loss: 0.2266 - acc: 0.9186 - val_loss: 0.6709 - val_acc: 0.7883\n",
      "Epoch 47/100\n",
      "37/37 [==============================] - 22s 597ms/step - loss: 0.2180 - acc: 0.9174 - val_loss: 0.7014 - val_acc: 0.7951\n",
      "Epoch 48/100\n",
      "37/37 [==============================] - 22s 599ms/step - loss: 0.2035 - acc: 0.9226 - val_loss: 0.7957 - val_acc: 0.7939\n",
      "Epoch 49/100\n",
      "37/37 [==============================] - 23s 618ms/step - loss: 0.2098 - acc: 0.9227 - val_loss: 0.7185 - val_acc: 0.7990\n",
      "Epoch 50/100\n",
      "37/37 [==============================] - 22s 583ms/step - loss: 0.2012 - acc: 0.9233 - val_loss: 0.7024 - val_acc: 0.7973\n",
      "Epoch 51/100\n",
      "37/37 [==============================] - 23s 621ms/step - loss: 0.1872 - acc: 0.9300 - val_loss: 0.8012 - val_acc: 0.7815\n",
      "Epoch 52/100\n",
      "37/37 [==============================] - 22s 602ms/step - loss: 0.1800 - acc: 0.9284 - val_loss: 0.7803 - val_acc: 0.7892\n",
      "Epoch 53/100\n",
      "37/37 [==============================] - 22s 598ms/step - loss: 0.1803 - acc: 0.9299 - val_loss: 0.7370 - val_acc: 0.7964\n",
      "Epoch 54/100\n",
      "37/37 [==============================] - 23s 616ms/step - loss: 0.1815 - acc: 0.9325 - val_loss: 0.7351 - val_acc: 0.7930\n",
      "Epoch 55/100\n",
      "37/37 [==============================] - 24s 649ms/step - loss: 0.1709 - acc: 0.9387 - val_loss: 0.7297 - val_acc: 0.7806\n",
      "Epoch 56/100\n",
      "37/37 [==============================] - 26s 701ms/step - loss: 0.1663 - acc: 0.9407 - val_loss: 0.8416 - val_acc: 0.7921\n",
      "Epoch 57/100\n",
      "37/37 [==============================] - 27s 723ms/step - loss: 0.1592 - acc: 0.9408 - val_loss: 0.7937 - val_acc: 0.7917\n",
      "Epoch 58/100\n",
      "37/37 [==============================] - 26s 691ms/step - loss: 0.1732 - acc: 0.9335 - val_loss: 0.7727 - val_acc: 0.7866\n",
      "Epoch 59/100\n",
      "37/37 [==============================] - 26s 707ms/step - loss: 0.1516 - acc: 0.9438 - val_loss: 0.8287 - val_acc: 0.7849\n",
      "Epoch 60/100\n",
      "37/37 [==============================] - 26s 713ms/step - loss: 0.1542 - acc: 0.9418 - val_loss: 0.8205 - val_acc: 0.7973\n",
      "Epoch 61/100\n",
      "37/37 [==============================] - 23s 619ms/step - loss: 0.1469 - acc: 0.9461 - val_loss: 0.8654 - val_acc: 0.7892\n"
     ]
    },
    {
     "name": "stdout",
     "output_type": "stream",
     "text": [
      "Epoch 62/100\n",
      "37/37 [==============================] - 23s 634ms/step - loss: 0.1445 - acc: 0.9459 - val_loss: 0.8255 - val_acc: 0.7913\n",
      "Epoch 63/100\n",
      "37/37 [==============================] - 23s 623ms/step - loss: 0.1457 - acc: 0.9468 - val_loss: 0.7862 - val_acc: 0.7892\n",
      "Epoch 64/100\n",
      "37/37 [==============================] - 25s 676ms/step - loss: 0.1290 - acc: 0.9535 - val_loss: 0.8639 - val_acc: 0.7926\n",
      "Epoch 65/100\n",
      "37/37 [==============================] - 23s 611ms/step - loss: 0.1347 - acc: 0.9499 - val_loss: 0.8429 - val_acc: 0.7939\n",
      "Epoch 66/100\n",
      "37/37 [==============================] - 23s 632ms/step - loss: 0.1263 - acc: 0.9541 - val_loss: 0.9493 - val_acc: 0.7964\n",
      "Epoch 67/100\n",
      "37/37 [==============================] - 23s 619ms/step - loss: 0.1265 - acc: 0.9547 - val_loss: 0.8817 - val_acc: 0.7913\n",
      "Epoch 68/100\n",
      "37/37 [==============================] - 24s 642ms/step - loss: 0.1228 - acc: 0.9560 - val_loss: 0.8713 - val_acc: 0.7913\n",
      "Epoch 69/100\n",
      "37/37 [==============================] - 23s 608ms/step - loss: 0.1219 - acc: 0.9559 - val_loss: 0.9014 - val_acc: 0.7930\n",
      "Epoch 70/100\n",
      "37/37 [==============================] - 24s 637ms/step - loss: 0.1229 - acc: 0.9566 - val_loss: 0.8592 - val_acc: 0.7904\n",
      "Epoch 71/100\n",
      "37/37 [==============================] - 24s 636ms/step - loss: 0.1124 - acc: 0.9606 - val_loss: 0.8895 - val_acc: 0.7887\n",
      "Epoch 72/100\n",
      "37/37 [==============================] - 24s 641ms/step - loss: 0.1132 - acc: 0.9590 - val_loss: 0.9833 - val_acc: 0.7956\n",
      "Epoch 73/100\n",
      "37/37 [==============================] - 24s 648ms/step - loss: 0.1039 - acc: 0.9625 - val_loss: 0.9438 - val_acc: 0.7973\n",
      "Epoch 74/100\n",
      "37/37 [==============================] - 22s 593ms/step - loss: 0.1070 - acc: 0.9632 - val_loss: 0.9338 - val_acc: 0.7759\n",
      "Epoch 75/100\n",
      "37/37 [==============================] - 21s 574ms/step - loss: 0.1135 - acc: 0.9587 - val_loss: 0.9099 - val_acc: 0.8032\n",
      "Epoch 76/100\n",
      "37/37 [==============================] - 23s 611ms/step - loss: 0.1076 - acc: 0.9624 - val_loss: 0.9419 - val_acc: 0.7853\n",
      "Epoch 77/100\n",
      "37/37 [==============================] - 22s 603ms/step - loss: 0.0964 - acc: 0.9651 - val_loss: 0.9504 - val_acc: 0.7900\n",
      "Epoch 78/100\n",
      "37/37 [==============================] - 25s 686ms/step - loss: 0.0993 - acc: 0.9650 - val_loss: 0.9749 - val_acc: 0.7883\n",
      "Epoch 79/100\n",
      "37/37 [==============================] - 24s 659ms/step - loss: 0.1005 - acc: 0.9665 - val_loss: 1.0016 - val_acc: 0.7943\n",
      "Epoch 80/100\n",
      "37/37 [==============================] - 25s 669ms/step - loss: 0.0985 - acc: 0.9648 - val_loss: 0.9517 - val_acc: 0.7956\n",
      "Epoch 81/100\n",
      "37/37 [==============================] - 24s 636ms/step - loss: 0.0947 - acc: 0.9676 - val_loss: 0.9534 - val_acc: 0.7883\n",
      "Epoch 82/100\n",
      "37/37 [==============================] - 24s 649ms/step - loss: 0.0952 - acc: 0.9652 - val_loss: 0.9084 - val_acc: 0.7964\n",
      "Epoch 83/100\n",
      "37/37 [==============================] - 23s 627ms/step - loss: 0.0952 - acc: 0.9669 - val_loss: 0.9704 - val_acc: 0.7904\n",
      "Epoch 84/100\n",
      "37/37 [==============================] - 25s 665ms/step - loss: 0.0829 - acc: 0.9710 - val_loss: 1.0639 - val_acc: 0.7917\n",
      "Epoch 85/100\n",
      "37/37 [==============================] - 24s 649ms/step - loss: 0.0892 - acc: 0.9690 - val_loss: 1.0659 - val_acc: 0.7956\n",
      "Epoch 86/100\n",
      "37/37 [==============================] - 24s 645ms/step - loss: 0.0876 - acc: 0.9694 - val_loss: 1.0068 - val_acc: 0.7900\n",
      "Epoch 87/100\n",
      "37/37 [==============================] - 24s 648ms/step - loss: 0.0868 - acc: 0.9693 - val_loss: 1.0122 - val_acc: 0.7904\n",
      "Epoch 88/100\n",
      "37/37 [==============================] - 24s 640ms/step - loss: 0.0853 - acc: 0.9701 - val_loss: 1.0214 - val_acc: 0.7904\n",
      "Epoch 89/100\n",
      "37/37 [==============================] - 24s 639ms/step - loss: 0.0835 - acc: 0.9696 - val_loss: 1.0210 - val_acc: 0.8007\n",
      "Epoch 90/100\n",
      "37/37 [==============================] - 24s 643ms/step - loss: 0.0788 - acc: 0.9718 - val_loss: 1.0659 - val_acc: 0.7909\n",
      "Epoch 91/100\n",
      "37/37 [==============================] - 24s 644ms/step - loss: 0.0836 - acc: 0.9716 - val_loss: 1.0490 - val_acc: 0.7802\n",
      "Epoch 92/100\n",
      "37/37 [==============================] - 23s 629ms/step - loss: 0.0765 - acc: 0.9746 - val_loss: 1.1259 - val_acc: 0.7896\n",
      "Epoch 93/100\n",
      "37/37 [==============================] - 25s 675ms/step - loss: 0.0717 - acc: 0.9757 - val_loss: 1.0960 - val_acc: 0.7870\n",
      "Epoch 94/100\n",
      "37/37 [==============================] - 24s 638ms/step - loss: 0.0837 - acc: 0.9703 - val_loss: 1.1460 - val_acc: 0.7828\n",
      "Epoch 95/100\n",
      "37/37 [==============================] - 24s 653ms/step - loss: 0.0706 - acc: 0.9762 - val_loss: 1.1301 - val_acc: 0.7968\n",
      "Epoch 96/100\n",
      "37/37 [==============================] - 23s 615ms/step - loss: 0.0780 - acc: 0.9727 - val_loss: 1.0209 - val_acc: 0.7917\n",
      "Epoch 97/100\n",
      "37/37 [==============================] - 24s 641ms/step - loss: 0.0752 - acc: 0.9753 - val_loss: 1.0692 - val_acc: 0.7832\n",
      "Epoch 98/100\n",
      "37/37 [==============================] - 23s 633ms/step - loss: 0.0773 - acc: 0.9748 - val_loss: 1.0885 - val_acc: 0.7930\n",
      "Epoch 99/100\n",
      "37/37 [==============================] - 24s 644ms/step - loss: 0.0718 - acc: 0.9752 - val_loss: 1.0721 - val_acc: 0.7926\n",
      "Epoch 100/100\n",
      "37/37 [==============================] - 23s 626ms/step - loss: 0.0683 - acc: 0.9760 - val_loss: 1.0876 - val_acc: 0.7802\n"
     ]
    }
   ],
   "source": [
    "hist_1 = lstm_mod1.fit(X_train, y_train,\n",
    "                    validation_split = 0.2,\n",
    "                    epochs=100, batch_size=256)"
   ]
  },
  {
   "cell_type": "code",
   "execution_count": 77,
   "metadata": {},
   "outputs": [
    {
     "name": "stdout",
     "output_type": "stream",
     "text": [
      "Training Accuracy: 0.9506\n",
      "Testing Accuracy:  0.7828\n"
     ]
    }
   ],
   "source": [
    "# Entrenamiento y test accuracy\n",
    "loss, accuracy = lstm_mod1.evaluate(X_train, y_train, verbose=False)\n",
    "print(\"Training Accuracy: {:.4f}\".format(accuracy))\n",
    "loss, accuracy = lstm_mod1.evaluate(X_test, y_test, verbose=False)\n",
    "print(\"Testing Accuracy:  {:.4f}\".format(accuracy))"
   ]
  },
  {
   "cell_type": "code",
   "execution_count": null,
   "metadata": {},
   "outputs": [],
   "source": []
  },
  {
   "cell_type": "markdown",
   "metadata": {},
   "source": [
    "\n",
    "## <font color=\"#004D7F\"> Matriz de confusión</font>"
   ]
  },
  {
   "cell_type": "code",
   "execution_count": 72,
   "metadata": {},
   "outputs": [],
   "source": [
    "# Confusion matrix\n",
    "from sklearn.metrics import confusion_matrix\n",
    "from sklearn.utils.multiclass import unique_labels"
   ]
  },
  {
   "cell_type": "code",
   "execution_count": 73,
   "metadata": {},
   "outputs": [],
   "source": [
    "# Obtiene los valores predichos\n",
    "y_pred = lstm_mod1.predict(X_test)  # tiene como salida las probabilidades de cada sentimiendo\n",
    "# Cree una matriz numérica vacía para que coincida con la longitud de las observaciones de entrenamiento\n",
    "y_pred_array = np.zeros(X_test.shape[0])\n",
    "\n",
    "# Encuentra la clase con mayor probabilidad\n",
    "for i in range(0, y_pred.shape[0]):\n",
    "    label_predict = np.argmax(y_pred[i]) # columna con mayor probabilidad \n",
    "    y_pred_array[i] = label_predict\n",
    "\n",
    "# Convertir a enteros\n",
    "y_pred_array = y_pred_array.astype(int)"
   ]
  },
  {
   "cell_type": "code",
   "execution_count": 78,
   "metadata": {},
   "outputs": [],
   "source": [
    "#  Convertir y_test a una dimension  numpy array\n",
    "y_test_array = np.zeros(X_test.shape[0])\n",
    "\n",
    "#  Encuentra clase con 1\n",
    "for i in range(0, y_test.shape[0]):\n",
    "    label_predict = np.argmax(y_test[i])\n",
    "    y_test_array[i] = label_predict\n",
    "\n",
    "y_test_array = y_test_array.astype(int)"
   ]
  },
  {
   "cell_type": "code",
   "execution_count": 79,
   "metadata": {},
   "outputs": [],
   "source": [
    "class_names = np.array(['Negative', 'Neutral', 'Positive'])"
   ]
  },
  {
   "cell_type": "code",
   "execution_count": 80,
   "metadata": {
    "scrolled": false
   },
   "outputs": [
    {
     "name": "stdout",
     "output_type": "stream",
     "text": [
      "Confusion matrix, without normalization\n",
      "[[1596  189   85]\n",
      " [ 191  362   61]\n",
      " [  64   46  334]]\n",
      "Normalized confusion matrix\n",
      "[[0.85 0.1  0.05]\n",
      " [0.31 0.59 0.1 ]\n",
      " [0.14 0.1  0.75]]\n"
     ]
    },
    {
     "data": {
      "image/png": "[encoded data removed]",
      "text/plain": [
       "<Figure size 432x288 with 2 Axes>"
      ]
     },
     "metadata": {
      "needs_background": "light"
     },
     "output_type": "display_data"
    },
    {
     "data": {
      "image/png": "[encoded data removed]",
      "text/plain": [
       "<Figure size 432x288 with 2 Axes>"
      ]
     },
     "metadata": {
      "needs_background": "light"
     },
     "output_type": "display_data"
    }
   ],
   "source": [
    "def plot_confusion_matrix(y_true, y_pred, classes,\n",
    "                          normalize=False,\n",
    "                          title=None,\n",
    "                          cmap=plt.cm.Blues):\n",
    "    \"\"\"\n",
    "    Esta función imprime y traza la matriz de confusión.\n",
    "    La normalización se puede aplicar configurando `normalize = True`.\n",
    "    \"\"\"\n",
    "    if not title:\n",
    "        if normalize:\n",
    "            title = 'Normalized confusion matrix'\n",
    "        else:\n",
    "            title = 'Confusion matrix, without normalization'\n",
    "\n",
    "    # Compute confusion matrix\n",
    "    cm = confusion_matrix(y_true, y_pred)\n",
    "    # Only use the labels that appear in the data\n",
    "    classes = classes[unique_labels(y_true, y_pred)]\n",
    "    if normalize:\n",
    "        cm = cm.astype('float') / cm.sum(axis=1)[:, np.newaxis]\n",
    "        print(\"Normalized confusion matrix\")\n",
    "    else:\n",
    "        print('Confusion matrix, without normalization')\n",
    "\n",
    "    print(cm)\n",
    "\n",
    "    fig, ax = plt.subplots()\n",
    "    im = ax.imshow(cm, interpolation='nearest', cmap=cmap)\n",
    "    ax.figure.colorbar(im, ax=ax)\n",
    "    # We want to show all ticks...\n",
    "    ax.set(xticks=np.arange(cm.shape[1]),\n",
    "           yticks=np.arange(cm.shape[0]),\n",
    "           # ... and label them with the respective list entries\n",
    "           xticklabels=classes, yticklabels=classes,\n",
    "           title=title,\n",
    "           ylabel='True label',\n",
    "           xlabel='Predicted label')\n",
    "\n",
    "    # Rotate the tick labels and set their alignment.\n",
    "    plt.setp(ax.get_xticklabels(), rotation=45, ha=\"right\",\n",
    "             rotation_mode=\"anchor\")\n",
    "\n",
    "    # Loop over data dimensions and create text annotations.\n",
    "    fmt = '.2f' if normalize else 'd'\n",
    "    thresh = cm.max() / 2.\n",
    "    for i in range(cm.shape[0]):\n",
    "        for j in range(cm.shape[1]):\n",
    "            ax.text(j, i, format(cm[i, j], fmt),\n",
    "                    ha=\"center\", va=\"center\",\n",
    "                    color=\"white\" if cm[i, j] > thresh else \"black\")\n",
    "    fig.tight_layout()\n",
    "    return ax\n",
    "\n",
    "\n",
    "np.set_printoptions(precision=2)\n",
    "\n",
    "# Plot non-normalized confusion matrix\n",
    "plot_confusion_matrix(y_test_array, y_pred_array, classes=class_names,\n",
    "                      title='Confusion matrix, without normalization')\n",
    "\n",
    "# Plot normalized confusion matrix\n",
    "plot_confusion_matrix(y_test_array, y_pred_array, classes=class_names, normalize=True,\n",
    "                      title='Normalized confusion matrix')\n",
    "\n",
    "plt.show()"
   ]
  },
  {
   "cell_type": "markdown",
   "metadata": {},
   "source": [
    "Vemos en las matrices de confusión anteriores, el Modelo hizo un excelente trabajo al predecir una etiqueta negativa cuando el tweet era negativo, pero sufrió más al predecir etiquetas positivas y neutrales. Esto puede deberse al hecho de que nuestro entrenamiento estaba compuesto en gran parte por tweets negativos, por lo que el modelo aprendió a dar una mayor probabilidad a una etiqueta negativa de este desequilibrio de clases."
   ]
  },
  {
   "cell_type": "code",
   "execution_count": null,
   "metadata": {},
   "outputs": [],
   "source": []
  },
  {
   "cell_type": "code",
   "execution_count": null,
   "metadata": {},
   "outputs": [],
   "source": []
  },
  {
   "cell_type": "code",
   "execution_count": null,
   "metadata": {},
   "outputs": [],
   "source": []
  },
  {
   "cell_type": "code",
   "execution_count": null,
   "metadata": {},
   "outputs": [],
   "source": []
  },
  {
   "cell_type": "code",
   "execution_count": null,
   "metadata": {},
   "outputs": [],
   "source": []
  }
 ],
 "metadata": {
  "kernelspec": {
   "display_name": "Python 3",
   "language": "python",
   "name": "python3"
  },
  "language_info": {
   "codemirror_mode": {
    "name": "ipython",
    "version": 3
   },
   "file_extension": ".py",
   "mimetype": "text/x-python",
   "name": "python",
   "nbconvert_exporter": "python",
   "pygments_lexer": "ipython3",
   "version": "3.8.3"
  }
 },
 "nbformat": 4,
 "nbformat_minor": 4
}
